{
 "cells": [
  {
   "cell_type": "markdown",
   "metadata": {},
   "source": [
    "# Automatic Differentiation Experiment"
   ]
  },
  {
   "cell_type": "markdown",
   "metadata": {},
   "source": [
    "A big part about the way I'm going to define things is that variables are functions and functions are variables; there's no difference between the two!\n",
    "\n",
    "What I want is\n",
    "\n",
    "```\n",
    "x, a = Variable()\n",
    "y, z, b, c = Parameter(1), Parameter(1), Parameter(1), Parameter(1)\n",
    "f = ((x + y) * z) / (a * b / c)\n",
    "\n",
    "step_size = 0.05\n",
    "\n",
    "for (x_train, a_train) in train:\n",
    "    parameter_grads = f.get_grad(x_train, a_train)\n",
    "    for (parameter, grad) in parameter_grads:\n",
    "        parameter.value -= step_size * parameter_grad\n",
    "        \n",
    "for (x_test, a_test) in test:\n",
    "    print(f([x_test, a_test]))\n",
    "```\n",
    "\n",
    "Note that I should _not_ have to do a forward pass every single time.  \n",
    "This is poor design for the user; what I should do instead is just have very lazy execution.  \n",
    "Only ever compute anything when the user needs it. I know tf switched to eager; I should read more about\n",
    "how to do eager computation and implement, maybe.\n",
    "\n",
    "Later, training an MLP in the background would look like this:\n",
    "\n",
    "```\n",
    "class MLP:\n",
    "    def __init__(self, input_layer_size, output_layer_size):\n",
    "        x = Variable()\n",
    "        self.input = x\n",
    "        \n",
    "        self.b = Parameter(`some np vector`)\n",
    "        self.W = Parameter(`some np matrix`)\n",
    "        self.f = W * x + b\n",
    "        \n",
    "    def forward_pass(self, input):\n",
    "        return f([input])\n",
    "        \n",
    "    def get_gradients(self, input):\n",
    "        return f.get_grad([input])\n",
    "        \n",
    "```"
   ]
  },
  {
   "cell_type": "markdown",
   "metadata": {},
   "source": [
    "Want to model\n",
    "\n",
    "$$ f(\\cdot) = \\frac{(x+y+z)*w}{(a+b)*c)} $$"
   ]
  }
 ],
 "metadata": {
  "kernelspec": {
   "display_name": "Python 3",
   "language": "python",
   "name": "python3"
  },
  "language_info": {
   "codemirror_mode": {
    "name": "ipython",
    "version": 3
   },
   "file_extension": ".py",
   "mimetype": "text/x-python",
   "name": "python",
   "nbconvert_exporter": "python",
   "pygments_lexer": "ipython3",
   "version": "3.6.5"
  }
 },
 "nbformat": 4,
 "nbformat_minor": 2
}
